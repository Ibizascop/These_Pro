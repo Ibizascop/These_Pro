{
 "cells": [
  {
   "cell_type": "code",
   "execution_count": null,
   "id": "03793e63",
   "metadata": {},
   "outputs": [],
   "source": [
    "import cv2\n",
    "import imutils\n",
    "import warnings\n",
    "import os\n",
    "import pandas as pd\n",
    "import numpy as np\n",
    "import Support as sp\n",
    "from tqdm import tqdm"
   ]
  },
  {
   "cell_type": "code",
   "execution_count": null,
   "id": "3a41d416",
   "metadata": {},
   "outputs": [],
   "source": [
    "def main() :\n",
    "    try :\n",
    "        #Preparation\n",
    "        liste_images = os.listdir(\"./Data/Images\")\n",
    "        liste_features = []\n",
    "        cd = sp.ColorDescriptor((8, 12, 3))\n",
    "        color_histogram_distances = pd.DataFrame(index = liste_images,columns = liste_images)\n",
    "        for img in tqdm(liste_images):\n",
    "            image = cv2.imread(\"./Data/Images/\"+img)\n",
    "            liste_features.append(cd.describe(image))\n",
    "        #Calcul distances\n",
    "        for i in tqdm(range(0,len(color_histogram_distances))):\n",
    "                for j in range(i,len(color_histogram_distances)) :\n",
    "                    if i == j :\n",
    "                        color_histogram_distances.iloc[i,j] = 0\n",
    "                    else :\n",
    "                        color_histogram_distances.iloc[i,j] = sp.chi2_distance(liste_features[i], liste_features[j])\n",
    "                        color_histogram_distances.iloc[j,i] = color_histogram_distances.iloc[i,j]\n",
    "        return color_histogram_distances\n",
    "        color_histogram_distances.to_csv(\"./Data/color_histogram_distances.csv\")\n",
    "    except :\n",
    "        print(liste_images[j])\n",
    "        return color_histogram_distances\n",
    "        color_histogram_distances.to_csv(\"./Data/color_histogram_distances.csv\")\n",
    "\n"
   ]
  },
  {
   "cell_type": "code",
   "execution_count": null,
   "id": "de6b8439",
   "metadata": {},
   "outputs": [],
   "source": [
    "distances = main()"
   ]
  }
 ],
 "metadata": {
  "kernelspec": {
   "display_name": "Python 3",
   "language": "python",
   "name": "python3"
  },
  "language_info": {
   "codemirror_mode": {
    "name": "ipython",
    "version": 3
   },
   "file_extension": ".py",
   "mimetype": "text/x-python",
   "name": "python",
   "nbconvert_exporter": "python",
   "pygments_lexer": "ipython3",
   "version": "3.9.1"
  }
 },
 "nbformat": 4,
 "nbformat_minor": 5
}
