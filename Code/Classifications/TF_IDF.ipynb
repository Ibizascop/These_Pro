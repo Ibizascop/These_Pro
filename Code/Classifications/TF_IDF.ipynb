{
 "cells": [
  {
   "cell_type": "code",
   "execution_count": null,
   "id": "d63a5e3a",
   "metadata": {},
   "outputs": [],
   "source": [
    "import pandas as pd\n",
    "import re\n",
    "import numpy as np\n",
    "import Support as sp\n",
    "from tqdm import tqdm"
   ]
  },
  {
   "cell_type": "code",
   "execution_count": null,
   "id": "11b4ba82",
   "metadata": {},
   "outputs": [],
   "source": [
    "#Charger fichier contenant 3k images\n",
    "data = pd.read_csv(\"./Data/3k_images.csv\")\n",
    "data.head()"
   ]
  },
  {
   "cell_type": "code",
   "execution_count": null,
   "id": "5d7178a0",
   "metadata": {},
   "outputs": [],
   "source": [
    "#Map tags to image with 0-1\n",
    "regex_ = r\"(?<=')(.*)(?=')\"\n",
    "data_with_tags = pd.DataFrame(index = np.arange(data.shape[0]),columns = [\"url\"] )\n",
    "for i,liste_tags in tqdm(enumerate(data[\"0\"])) :\n",
    "    liste_tags = liste_tags.split(\", \")\n",
    "    liste_tags = [tag.replace(\"'\",\"\").replace(\"[\",\"\").replace(\"]\",\"\") for tag in liste_tags]\n",
    "    data_with_tags[\"url\"].iat[i] = data[\"Unnamed: 0\"].iat[i]\n",
    "    for tag in liste_tags :\n",
    "        if tag not in list(data_with_tags.columns):\n",
    "            data_with_tags[tag] = 0\n",
    "            data_with_tags[tag].iat[i] =1\n",
    "        else :\n",
    "            data_with_tags[tag].iat[i] =1\n",
    "data_with_tags.head()"
   ]
  },
  {
   "cell_type": "code",
   "execution_count": null,
   "id": "8446ca02",
   "metadata": {},
   "outputs": [],
   "source": [
    "#Solve weird bug where values are present in the dataframe but can't be accessed, copied \n",
    "#Apparently only working with 1 column at once solves i \n",
    "data_2 = pd.DataFrame(data_with_tags[\"url\"])\n",
    "for col in tqdm(list(data_with_tags.columns[1:])) :\n",
    "    x = pd.DataFrame(data_with_tags[col])\n",
    "    data_2 = pd.concat([data_2, x], axis=1)"
   ]
  },
  {
   "cell_type": "code",
   "execution_count": null,
   "id": "c7e7db1c",
   "metadata": {},
   "outputs": [],
   "source": [
    "#Save\n",
    "data_2.to_csv(\"./Data/data_with_tags.csv\")"
   ]
  },
  {
   "cell_type": "code",
   "execution_count": null,
   "id": "66e79322",
   "metadata": {},
   "outputs": [],
   "source": [
    "#Map tags to image with TF_IDF\n",
    "TF_IDF = sp.TF_IDF(data_2,1)\n",
    "TF_IDF.to_csv(\"./Data/TF_IDF_distances.csv\")"
   ]
  }
 ],
 "metadata": {
  "kernelspec": {
   "display_name": "Python 3",
   "language": "python",
   "name": "python3"
  },
  "language_info": {
   "codemirror_mode": {
    "name": "ipython",
    "version": 3
   },
   "file_extension": ".py",
   "mimetype": "text/x-python",
   "name": "python",
   "nbconvert_exporter": "python",
   "pygments_lexer": "ipython3",
   "version": "3.9.1"
  }
 },
 "nbformat": 4,
 "nbformat_minor": 5
}
